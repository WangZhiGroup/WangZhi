{
 "cells": [
  {
   "cell_type": "markdown",
   "metadata": {},
   "source": [
    "# The Two Level Problem\n",
    "\n",
    "Let us generally study a psudo-spin Hamiltonian,\n",
    "\\begin{eqnarray}\n",
    "\\hat H = {\\bf h} \\cdot {\\bf \\sigma},\n",
    "\\end{eqnarray}\n",
    "where we defined the parameter vector\n",
    "\\begin{eqnarray}\n",
    "{\\bf h} = [h_x ({\\bf k}),h_y({\\bf k}),h_z({\\bf k})],\n",
    "\\end{eqnarray}\n",
    "and the Pauli matrix vector,\n",
    "\\begin{eqnarray}\n",
    "{\\bf \\sigma} = [\\sigma_x,\\sigma_y,\\sigma_z].\n",
    "\\end{eqnarray}\n",
    "\n",
    "We first consider the most simple Hamiltonian with a static parameter vector $\\bf h$. Then the two eigen states which corrensponds to the eigenvalue of $\\pm |{\\bf h}|$ are,\n",
    "\\begin{eqnarray}\n",
    "\\mid -\\rangle = \n",
    "\\end{eqnarray}\n",
    "\n"
   ]
  },
  {
   "cell_type": "code",
   "execution_count": null,
   "metadata": {
    "collapsed": true
   },
   "outputs": [],
   "source": []
  },
  {
   "cell_type": "code",
   "execution_count": null,
   "metadata": {
    "collapsed": true
   },
   "outputs": [],
   "source": []
  }
 ],
 "metadata": {
  "kernelspec": {
   "display_name": "Python 3",
   "language": "python",
   "name": "python3"
  },
  "language_info": {
   "codemirror_mode": {
    "name": "ipython",
    "version": 3
   },
   "file_extension": ".py",
   "mimetype": "text/x-python",
   "name": "python",
   "nbconvert_exporter": "python",
   "pygments_lexer": "ipython3",
   "version": "3.5.2"
  }
 },
 "nbformat": 4,
 "nbformat_minor": 1
}
