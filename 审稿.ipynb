{
 "cells": [
  {
   "cell_type": "markdown",
   "metadata": {},
   "source": [
    "The authors extended their manuscript and made required clarifications. After reading the response and the revised manuscript, I feel that only one issue still need some explanation. \n",
    "\n",
    "In the revised manuscript, the authors clarified that the supercurrent showed in Eq. (16) are distinct from the result in Ref. (23). The authors indicate that the result of Ref. (23) is incorrect due to a technical problem. I have checked the derivation in Ref. (23) and find it based on quite standard Green function technique. The integral in Eq. (14) of Ref. 23 indeed have only one frequency integral. In my understanding, the physics behind it is the time translation invariance in the thermal equilibrium state. This time translation invariance give an equal supercurrent at any time, therefore the spectrum of the supercurrent $I_S(\\omega)$ scales with the total super current $I_S$. Taking this mind, it looks reasonable to factorize the correlation between total supercurrents $ \\langle I^2_S \\rangle$ into only one frequency integration of the correlation between spectral supercurrents $\\langle I^2(\\omega) \\rangle $. The authors seem to be stating that this consideration is incorrect. I hope to be able to have some physical insights from the authors. From another perspective, if the authors also take only one frequency summation by making $\\omega_2 = \\omega_1$ in Eq. (1), do they get the same results as in Ref. 23? \n",
    "\n",
    "I also feel the optimal estimation of the supercurrent to be several nA in the discussion section not very convincing. The optimal condition of $G^2_t / (G_L G_\\xi) \\sim 1$ is obviously in contradiction with the perturbation requirement of $G^2_t / (G_L G_\\xi) \\ll 1$ which is stated below Eq. (17).\n",
    "\n",
    "There are some minor technical details that can be improved:\n",
    "1. The $T$ and $\\omega_{1,2}$ used in Eq. (1) is not explicitly explained before or directly after the equation. It can be understood as temperature and Matsubara frequencies, but may take readers unnecessary extra time.\n",
    "2. There seems to be a symbol typo in section III, right before subsection A. It should be ‘$10 \\sim 100$ nm’ instead of ‘$10 \\div 100 $’.\n",
    "\n",
    "\n",
    "\n"
   ]
  },
  {
   "cell_type": "code",
   "execution_count": null,
   "metadata": {
    "collapsed": true
   },
   "outputs": [],
   "source": []
  }
 ],
 "metadata": {
  "kernelspec": {
   "display_name": "Python 3",
   "language": "python",
   "name": "python3"
  },
  "language_info": {
   "codemirror_mode": {
    "name": "ipython",
    "version": 3
   },
   "file_extension": ".py",
   "mimetype": "text/x-python",
   "name": "python",
   "nbconvert_exporter": "python",
   "pygments_lexer": "ipython3",
   "version": "3.5.2"
  }
 },
 "nbformat": 4,
 "nbformat_minor": 1
}
